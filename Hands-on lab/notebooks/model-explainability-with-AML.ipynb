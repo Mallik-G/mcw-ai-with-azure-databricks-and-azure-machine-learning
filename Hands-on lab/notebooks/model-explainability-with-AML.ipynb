{
  "cells": [
    {
      "metadata": {},
      "cell_type": "markdown",
      "source": "#  Understanding the automated ML generated forecast model using model explainability \nIn this exercise, you will retrieve the automated ML model you created in the previous exercise and then apply the model explainability features of the Azure Machine Learning SDK against it to gain insight into the features that most impact its predictions."
    },
    {
      "metadata": {
        "trusted": true
      },
      "cell_type": "code",
      "source": "import os\nimport numpy as np\nimport pandas as pd\nimport logging\n\nimport azureml\nfrom azureml.core import Run\nfrom azureml.core import Workspace\nfrom azureml.core.model import Model\nfrom azureml.core.run import Run\nfrom azureml.core.experiment import Experiment\nfrom azureml.train.automl import AutoMLConfig\n\nimport pickle\n\n# Verify AML SDK Installed\n# view version history at https://pypi.org/project/azureml-sdk/#history \nprint(\"SDK Version:\", azureml.core.VERSION)\n\nimport sklearn\n\nsklearn_version = sklearn.__version__\nprint('The scikit-learn version is {}.'.format(sklearn_version))",
      "execution_count": 1,
      "outputs": [
        {
          "output_type": "stream",
          "text": "SDK Version: 1.0.43\nThe scikit-learn version is 0.20.3.\n",
          "name": "stdout"
        }
      ]
    },
    {
      "metadata": {},
      "cell_type": "markdown",
      "source": "## Load the training and test data\nRun the following cell to load the data."
    },
    {
      "metadata": {
        "trusted": true
      },
      "cell_type": "code",
      "source": "# Load our training data set\ndata = pd.read_csv('./daily-battery-time-series.csv', delimiter=',')\ndata = data[['Date','Battery_ID','Battery_Age_Days','Number_Of_Trips','Daily_Trip_Duration','Daily_Cycles_Used', 'Lifetime_Cycles_Used', 'Battery_Rated_Cycles']]\n\nfield_to_predict = 'Daily_Cycles_Used'\nX_train = data.iloc[:1000][['Date','Battery_ID','Battery_Age_Days','Daily_Trip_Duration',field_to_predict]]\nX_test = data.iloc[-500:][['Date','Battery_ID','Battery_Age_Days','Daily_Trip_Duration',field_to_predict]] \n\ny_train = X_train.pop(field_to_predict).values\ny_test = X_test.pop(field_to_predict).values",
      "execution_count": 2,
      "outputs": []
    },
    {
      "metadata": {},
      "cell_type": "markdown",
      "source": "### Setup\nTo begin, you will need to provide the following information about your Azure Subscription.\n\n**If you are using your own Azure subscription, please provide names for subscription_id, resource_group, workspace_name and workspace_region to use.** Note that the workspace needs to be of type [Machine Learning Workspace](https://docs.microsoft.com/en-us/azure/machine-learning/service/setup-create-workspace).\n\n**If an environment is provided to you be sure to replace XXXXX in the values below with your unique identifier.**\n\nIn the following cell, be sure to set the values for `subscription_id`, `resource_group`, `workspace_name` and `workspace_region` as directed by the comments (*these values can be acquired from the Azure Portal*).\n\nTo get these values, do the following:\n1. Navigate to the Azure Portal and login with the credentials provided.\n2. From the left hand menu, under Favorites, select `Resource Groups`.\n3. In the list, select the resource group with the name similar to `XXXXX`.\n4. From the Overview tab, capture the desired values.\n\nExecute the following cell by selecting the `>|Run` button in the command bar above."
    },
    {
      "metadata": {
        "trusted": true
      },
      "cell_type": "code",
      "source": "#Provide the Subscription ID of your existing Azure subscription\nsubscription_id = \"8c924580-ce70-48d0-a031-1b21726acc1a\" # <- needs to be the subscription with the Quick-Starts resource group\n\n#Provide values for the existing Resource Group \nresource_group = \"QuickStarts\" # <- replace XXXXX with your unique identifier\n\n#Provide the Workspace Name and Azure Region of the Azure Machine Learning Workspace\nworkspace_name = \"quick-starts-ws\" # <- replace XXXXX with your unique identifier\nworkspace_region = \"eastus\" # <- region of your Quick-Starts resource group \n\n#Provide the name of the Automated ML experiment you executed previously\nexperiment_name = \"Battery-Cycles-zst-3\"",
      "execution_count": 3,
      "outputs": []
    },
    {
      "metadata": {},
      "cell_type": "markdown",
      "source": "## Connect to the Azure Machine Learning Workspace\n\nRun the following cell to connect the Azure Machine Learning **Workspace** created in part 1.\n\n**Important Note**: You will be prompted to login in the text that is output below the cell. Be sure to navigate to the URL displayed and enter the code that is provided. Once you have entered the code, return to this notebook and wait for the output to read `Workspace configuration succeeded`."
    },
    {
      "metadata": {
        "trusted": true
      },
      "cell_type": "code",
      "source": "# By using the exist_ok param, if the worskpace already exists we get a reference to the existing workspace\nws = Workspace.create(\n    name = workspace_name,\n    subscription_id = subscription_id,\n    resource_group = resource_group, \n    location = workspace_region,\n    exist_ok = True)\n\nprint(\"Workspace Provisioning complete.\")",
      "execution_count": 4,
      "outputs": [
        {
          "output_type": "stream",
          "text": "Workspace Provisioning complete.\n",
          "name": "stdout"
        }
      ]
    },
    {
      "metadata": {},
      "cell_type": "markdown",
      "source": "Retrieve the Run from the Experiment:"
    },
    {
      "metadata": {
        "trusted": true
      },
      "cell_type": "code",
      "source": "existing_experiment = Experiment(ws,experiment_name)\nrun = list(Run.list(existing_experiment))[0]",
      "execution_count": 5,
      "outputs": []
    },
    {
      "metadata": {},
      "cell_type": "markdown",
      "source": "Examine the details of the run:"
    },
    {
      "metadata": {
        "trusted": true
      },
      "cell_type": "code",
      "source": "from azureml.widgets import RunDetails\nRunDetails(run).show()",
      "execution_count": 6,
      "outputs": [
        {
          "output_type": "display_data",
          "data": {
            "application/vnd.jupyter.widget-view+json": {
              "model_id": "c70ac8e81f6241b3ad1807073fb4e810",
              "version_minor": 0,
              "version_major": 2
            },
            "text/plain": "_AutoMLWidget(widget_settings={'childWidgetDisplay': 'popup', 'send_telemetry': False, 'log_level': 'INFO', 's…"
          },
          "metadata": {}
        }
      ]
    },
    {
      "metadata": {},
      "cell_type": "markdown",
      "source": "Retrieve the underlying AutoMLRun to get at the best model and child run objects:"
    },
    {
      "metadata": {
        "trusted": true
      },
      "cell_type": "code",
      "source": "from azureml.train.automl.run import AutoMLRun\nautoml_run = AutoMLRun(existing_experiment, run.id)\nbest_run, best_model = automl_run.get_output()",
      "execution_count": 7,
      "outputs": []
    },
    {
      "metadata": {
        "trusted": true
      },
      "cell_type": "code",
      "source": "from azureml.train.automl.automlexplainer import explain_model\n\nshap_values, expected_values, sorted_global_importance_values, sorted_global_importance_names, _ , _ = explain_model(best_model, X_train, X_test, best_run=best_run, \n                                                                                                             y_train=y_train)\n#Overall feature importance\nfeature_importance = dict(zip(sorted_global_importance_names, sorted_global_importance_values))\n",
      "execution_count": 9,
      "outputs": []
    },
    {
      "metadata": {},
      "cell_type": "markdown",
      "source": "Run the following cell to render the feature importance using a Pandas DataFrame. Which feature had the greatest importance globally on the model?"
    },
    {
      "metadata": {
        "trusted": true
      },
      "cell_type": "code",
      "source": "features_df = pd.DataFrame(list(zip(sorted_global_importance_names, sorted_global_importance_values)), dtype=float)\npd.options.display.float_format = '{:.20g}'.format\nfeatures_df",
      "execution_count": 10,
      "outputs": [
        {
          "output_type": "execute_result",
          "execution_count": 10,
          "data": {
            "text/html": "<div>\n<style scoped>\n    .dataframe tbody tr th:only-of-type {\n        vertical-align: middle;\n    }\n\n    .dataframe tbody tr th {\n        vertical-align: top;\n    }\n\n    .dataframe thead th {\n        text-align: right;\n    }\n</style>\n<table border=\"1\" class=\"dataframe\">\n  <thead>\n    <tr style=\"text-align: right;\">\n      <th></th>\n      <th>0</th>\n      <th>1</th>\n    </tr>\n  </thead>\n  <tbody>\n    <tr>\n      <th>0</th>\n      <td>Daily_Trip_Duration</td>\n      <td>0.0090999663936463647679</td>\n    </tr>\n    <tr>\n      <th>1</th>\n      <td>week</td>\n      <td>5.0947434581318656616e-05</td>\n    </tr>\n    <tr>\n      <th>2</th>\n      <td>wday</td>\n      <td>4.6794782018912435139e-05</td>\n    </tr>\n    <tr>\n      <th>3</th>\n      <td>Battery_Age_Days</td>\n      <td>4.5740882053615876239e-05</td>\n    </tr>\n    <tr>\n      <th>4</th>\n      <td>qday</td>\n      <td>3.9549482054358111173e-05</td>\n    </tr>\n    <tr>\n      <th>5</th>\n      <td>day</td>\n      <td>3.4172700212751703759e-05</td>\n    </tr>\n    <tr>\n      <th>6</th>\n      <td>half</td>\n      <td>1.8635186826042341661e-05</td>\n    </tr>\n    <tr>\n      <th>7</th>\n      <td>month</td>\n      <td>1.4828523295098929954e-05</td>\n    </tr>\n    <tr>\n      <th>8</th>\n      <td>quarter</td>\n      <td>4.1934299358338169162e-06</td>\n    </tr>\n    <tr>\n      <th>9</th>\n      <td>grain_Battery_ID_0</td>\n      <td>0</td>\n    </tr>\n    <tr>\n      <th>10</th>\n      <td>year</td>\n      <td>0</td>\n    </tr>\n    <tr>\n      <th>11</th>\n      <td>Daily_Trip_Duration_WASNULL</td>\n      <td>0</td>\n    </tr>\n    <tr>\n      <th>12</th>\n      <td>Battery_Age_Days_WASNULL</td>\n      <td>0</td>\n    </tr>\n  </tbody>\n</table>\n</div>",
            "text/plain": "                              0                         1\n0           Daily_Trip_Duration  0.0090999663936463647679\n1                          week 5.0947434581318656616e-05\n2                          wday 4.6794782018912435139e-05\n3              Battery_Age_Days 4.5740882053615876239e-05\n4                          qday 3.9549482054358111173e-05\n5                           day 3.4172700212751703759e-05\n6                          half 1.8635186826042341661e-05\n7                         month 1.4828523295098929954e-05\n8                       quarter 4.1934299358338169162e-06\n9            grain_Battery_ID_0                         0\n10                         year                         0\n11  Daily_Trip_Duration_WASNULL                         0\n12     Battery_Age_Days_WASNULL                         0"
          },
          "metadata": {}
        }
      ]
    },
    {
      "metadata": {},
      "cell_type": "markdown",
      "source": "As you might have guessed, the `Daily_Trip_Duration` feature has the greatest impact on the `Daily_Cycles_Used` forecast."
    },
    {
      "metadata": {
        "trusted": true
      },
      "cell_type": "code",
      "source": "",
      "execution_count": null,
      "outputs": []
    }
  ],
  "metadata": {
    "kernelspec": {
      "name": "python36",
      "display_name": "Python 3.6",
      "language": "python"
    },
    "language_info": {
      "mimetype": "text/x-python",
      "nbconvert_exporter": "python",
      "name": "python",
      "pygments_lexer": "ipython3",
      "version": "3.6.6",
      "file_extension": ".py",
      "codemirror_mode": {
        "version": 3,
        "name": "ipython"
      }
    }
  },
  "nbformat": 4,
  "nbformat_minor": 2
}